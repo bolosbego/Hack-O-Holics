{
 "cells": [
  {
   "cell_type": "code",
   "execution_count": 18,
   "metadata": {},
   "outputs": [],
   "source": [
    "import matplotlib.pyplot as plt\n",
    "import pandas as pd\n",
    "from pandas import ExcelWriter\n",
    "from pandas import ExcelFile\n",
    "\n",
    "df = pd.read_excel('/home/avi/Desktop/Metabolic_Prediction/GTEx_pancreas_liver_images_liverfat_pancreasfat.xlsx')"
   ]
  },
  {
   "cell_type": "code",
   "execution_count": 19,
   "metadata": {},
   "outputs": [],
   "source": [
    "df['Sex'] = df['Sex'].map({'female': 1, 'male': 0})"
   ]
  },
  {
   "cell_type": "code",
   "execution_count": 20,
   "metadata": {},
   "outputs": [],
   "source": [
    "df['Age.Bracket']= df['Age.Bracket'].astype(str) "
   ]
  },
  {
   "cell_type": "code",
   "execution_count": 21,
   "metadata": {},
   "outputs": [],
   "source": [
    "df['Age.Bracket'] = df['Age.Bracket'].map({'0-9': 1,'10-19': 2,'20-29': 3,'30-39': 4,'40-49': 5,'50-59': 6,'60-69': 7,'70-79': 8,'80-89': 9,'90-99': 10})"
   ]
  },
  {
   "cell_type": "markdown",
   "metadata": {},
   "source": [
    "# Computing Biserial Correlation between Sex and Liver fat Content"
   ]
  },
  {
   "cell_type": "code",
   "execution_count": 22,
   "metadata": {},
   "outputs": [
    {
     "name": "stdout",
     "output_type": "stream",
     "text": [
      "0.03869794298569949\n"
     ]
    }
   ],
   "source": [
    "import math\n",
    "n0, n1= df['Sex'].value_counts() \n",
    "m0, m1 = 0,1\n",
    "n,y= df.shape\n",
    "k = df['Fat.Percentage_liver'].std()\n",
    "\n",
    "t= math.sqrt((n0*n1)/(n*n))\n",
    "\n",
    "r = ((m1 - m0)*t)/k\n",
    "print(r)\n"
   ]
  },
  {
   "cell_type": "markdown",
   "metadata": {},
   "source": [
    "# Computing Biserial Correlation between Sex and Pancreas fat Content"
   ]
  },
  {
   "cell_type": "code",
   "execution_count": 23,
   "metadata": {},
   "outputs": [
    {
     "name": "stdout",
     "output_type": "stream",
     "text": [
      "0.026075425921971342\n"
     ]
    }
   ],
   "source": [
    "k = df['Fat.Percentage_pancreas'].std()\n",
    "t= math.sqrt((n0*n1)/(n*n))\n",
    "\n",
    "r = ((m1 - m0)*t)/k\n",
    "print(r)"
   ]
  },
  {
   "cell_type": "markdown",
   "metadata": {},
   "source": [
    "# Finding correlation between liver fat percentage and pancreas fat content"
   ]
  },
  {
   "cell_type": "code",
   "execution_count": 24,
   "metadata": {},
   "outputs": [
    {
     "name": "stdout",
     "output_type": "stream",
     "text": [
      "                         Fat.Percentage_liver  Fat.Percentage_pancreas\n",
      "Fat.Percentage_liver                 1.000000                 0.094609\n",
      "Fat.Percentage_pancreas              0.094609                 1.000000\n"
     ]
    }
   ],
   "source": [
    "data = df[['Fat.Percentage_liver','Fat.Percentage_pancreas']]\n",
    "correlation = data.corr(method='pearson')\n",
    "print(correlation)"
   ]
  },
  {
   "cell_type": "markdown",
   "metadata": {},
   "source": [
    "# Finding correlation between age group and liver fat percentage. Although this technique is practically not much revealing"
   ]
  },
  {
   "cell_type": "code",
   "execution_count": 25,
   "metadata": {},
   "outputs": [
    {
     "name": "stdout",
     "output_type": "stream",
     "text": [
      "                      Age.Bracket  Fat.Percentage_liver\n",
      "Age.Bracket               1.00000               0.01717\n",
      "Fat.Percentage_liver      0.01717               1.00000\n"
     ]
    }
   ],
   "source": [
    "data = df[['Age.Bracket','Fat.Percentage_liver']]\n",
    "correlation = data.corr(method='pearson')\n",
    "print(correlation)"
   ]
  },
  {
   "cell_type": "markdown",
   "metadata": {},
   "source": [
    "# Finding correlation between age group and liver fat percentage. Although this technique is practically not much revealing"
   ]
  },
  {
   "cell_type": "code",
   "execution_count": 26,
   "metadata": {},
   "outputs": [
    {
     "name": "stdout",
     "output_type": "stream",
     "text": [
      "                         Age.Bracket  Fat.Percentage_pancreas\n",
      "Age.Bracket                 1.000000                 0.166649\n",
      "Fat.Percentage_pancreas     0.166649                 1.000000\n"
     ]
    }
   ],
   "source": [
    "data = df[['Age.Bracket','Fat.Percentage_pancreas']]\n",
    "correlation = data.corr(method='pearson')\n",
    "print(correlation)"
   ]
  },
  {
   "cell_type": "code",
   "execution_count": 27,
   "metadata": {},
   "outputs": [
    {
     "data": {
      "image/png": "[encoded data removed]",
      "text/plain": [
       "<Figure size 432x288 with 1 Axes>"
      ]
     },
     "metadata": {
      "needs_background": "light"
     },
     "output_type": "display_data"
    }
   ],
   "source": [
    "plt.scatter(df['Fat.Percentage_liver'], df['Fat.Percentage_pancreas'])\n",
    "plt.show()"
   ]
  },
  {
   "cell_type": "markdown",
   "metadata": {},
   "source": [
    "# Calculating score values for liver disease categories"
   ]
  },
  {
   "cell_type": "code",
   "execution_count": 28,
   "metadata": {},
   "outputs": [],
   "source": [
    "s = df[\"Pathology.Categories_liver\"] \n",
    "l = s.to_list()\n",
    "my_dict = {\".\": 0, \"nan\": 0, \"no_abnormalities\": 0, \"necrosis\": 1, \"congestion\": 1, \"fibrosis\": 1, \"inflammation\": 1, \"steatosis\": 1, \"cirrhosis\": 1,\n",
    "           \"hyperplasia\": 1, \"nodularity\": 1, \"hemorrhage\": 1, \"atrophy\": 1, \"infarction\": 1, \"hepatitis\": 1,\n",
    "          \"sclerotic\": 1, \"scarring\": 1, \"hyalinization\": 1, \"pigment\": 1, \"ischemic_changes\": 1, \"clean_specimens\": 0}\n",
    "\n",
    "score_list=[]\n",
    "for i in l: \n",
    "    score=0\n",
    "    i = str(i)\n",
    "    my_list = i.split(\",\") \n",
    "    for i in my_list:\n",
    "        score = score + my_dict[i.strip()]\n",
    "    score_list.append(score)\n",
    "    \n",
    "df.loc[:,'Score_List_Liver'] = score_list"
   ]
  },
  {
   "cell_type": "markdown",
   "metadata": {},
   "source": [
    "# Computing correlation between liver disease category scores and liver fat content"
   ]
  },
  {
   "cell_type": "code",
   "execution_count": 29,
   "metadata": {},
   "outputs": [
    {
     "name": "stdout",
     "output_type": "stream",
     "text": [
      "                      Score_List_Liver  Fat.Percentage_liver\n",
      "Score_List_Liver              1.000000              0.194163\n",
      "Fat.Percentage_liver          0.194163              1.000000\n"
     ]
    }
   ],
   "source": [
    "data = df[['Score_List_Liver','Fat.Percentage_liver']]\n",
    "correlation = data.corr(method='pearson')\n",
    "print(correlation)"
   ]
  },
  {
   "cell_type": "markdown",
   "metadata": {},
   "source": [
    "# Calculating score values for pancreas disease categories"
   ]
  },
  {
   "cell_type": "code",
   "execution_count": 30,
   "metadata": {},
   "outputs": [],
   "source": [
    "s = df[\"Pathology.Categories_pancreas\"] \n",
    "l = s.to_list()\n",
    "my_dict = {\".\": 0, \"nan\": 0, \"no_abnormalities\": 0, \"saponification\": 1, \"atrophy\": 1, \"fibrosis\": 1, \"diabetic\": 1, \"sclerotic\": 1, \"pancreatitis\": 1,\n",
    "          \"cyst\": 1, \"metaplasia\": 1, \"congestion\": 1, \"hemorrhage\": 1, \"calcification\": 1, \"necrosis\": 1, \"inflammation\": 1, \"desquamation\": 1,\n",
    "          \"nodularity\": 1, \"scarring\": 1, \"clean_specimens\": 0}\n",
    "score_list=[]\n",
    "for i in l: \n",
    "    score=0\n",
    "    i = str(i)\n",
    "    my_list = i.split(\",\") \n",
    "    for i in my_list:\n",
    "        score = score + my_dict[i.strip()]\n",
    "    score_list.append(score)\n",
    "    \n",
    "df.loc[:,'Score_List_Pancreas'] = score_list"
   ]
  },
  {
   "cell_type": "markdown",
   "metadata": {},
   "source": [
    "# Computing correlation between pancreas disease category scores and pancreas fat content"
   ]
  },
  {
   "cell_type": "code",
   "execution_count": 31,
   "metadata": {},
   "outputs": [
    {
     "name": "stdout",
     "output_type": "stream",
     "text": [
      "                         Score_List_Pancreas  Fat.Percentage_pancreas\n",
      "Score_List_Pancreas                   1.0000                   0.0633\n",
      "Fat.Percentage_pancreas               0.0633                   1.0000\n"
     ]
    }
   ],
   "source": [
    "data = df[['Score_List_Pancreas','Fat.Percentage_pancreas']]\n",
    "correlation = data.corr(method='pearson')\n",
    "print(correlation)"
   ]
  },
  {
   "cell_type": "markdown",
   "metadata": {},
   "source": [
    "# Implementing multiple linear regression for liver fat content"
   ]
  },
  {
   "cell_type": "code",
   "execution_count": 32,
   "metadata": {},
   "outputs": [],
   "source": [
    "import pandas as pd  \n",
    "import numpy as np  \n",
    "import matplotlib.pyplot as plt  \n",
    "import seaborn as seabornInstance \n",
    "import sklearn\n",
    "from sklearn import linear_model\n",
    "from sklearn.model_selection import train_test_split \n",
    "from sklearn import metrics\n",
    "from sklearn.linear_model import RidgeCV\n",
    "%matplotlib inline"
   ]
  },
  {
   "cell_type": "code",
   "execution_count": 33,
   "metadata": {},
   "outputs": [
    {
     "name": "stdout",
     "output_type": "stream",
     "text": [
      "Coefficients: \n",
      " [[0.0270624  0.05291611 2.82771939]]\n",
      "Variance score: 0.007375557355730811\n",
      "Mean squared error: 137.08\n"
     ]
    }
   ],
   "source": [
    "# defining feature matrix(X) and response vector(y) \n",
    "X = df[['Sex','Age.Bracket','Score_List_Liver']]\n",
    "y = df[['Fat.Percentage_liver']]\n",
    "\n",
    "# splitting X and y into training and testing sets \n",
    "\n",
    "X_train, X_test, y_train, y_test = train_test_split(X, y, test_size=0.2, random_state=1) \n",
    "  \n",
    "# create linear regression object \n",
    "reg = linear_model.LinearRegression() \n",
    "\n",
    "reg = RidgeCV(alphas=[1, 1e3, 1e6], store_cv_values=True)\n",
    "  \n",
    "# train the model using the training sets \n",
    "reg.fit(X_train, y_train) \n",
    "\n",
    "pred = reg.predict(X_test)\n",
    "  \n",
    "# regression coefficients \n",
    "print('Coefficients: \\n', reg.coef_) \n",
    "  \n",
    "# variance score: 1 means perfect prediction \n",
    "print('Variance score: {}'.format(reg.score(X_test, y_test))) \n",
    "\n",
    "# The mean squared error\n",
    "print(\"Mean squared error: %.2f\" % np.mean((reg.predict(X_test) - y_test) ** 2))\n",
    "\n",
    "  "
   ]
  },
  {
   "cell_type": "markdown",
   "metadata": {},
   "source": [
    "# Implementing multiple linear regression for pancreas fat content"
   ]
  },
  {
   "cell_type": "code",
   "execution_count": 34,
   "metadata": {},
   "outputs": [
    {
     "name": "stdout",
     "output_type": "stream",
     "text": [
      "Coefficients: \n",
      " [[-1.11836728  2.5470895   1.12494484]]\n",
      "Variance score: 0.03359989166840138\n",
      "Mean squared error: 257.01\n"
     ]
    }
   ],
   "source": [
    "# defining feature matrix(X) and response vector(y) \n",
    "X = df[['Sex','Age.Bracket','Score_List_Pancreas']]\n",
    "y = df[['Fat.Percentage_pancreas']]\n",
    "\n",
    "# splitting X and y into training and testing sets \n",
    "\n",
    "X_train, X_test, y_train, y_test = train_test_split(X, y, test_size=0.2, random_state=1) \n",
    "  \n",
    "# create linear regression object \n",
    "reg = linear_model.LinearRegression() \n",
    "\n",
    "reg = RidgeCV(alphas=[1, 1e3, 1e6], store_cv_values=True)\n",
    "  \n",
    "# train the model using the training sets \n",
    "reg.fit(X_train, y_train) \n",
    "\n",
    "pred = reg.predict(X_test)\n",
    "  \n",
    "# regression coefficients \n",
    "print('Coefficients: \\n', reg.coef_) \n",
    "  \n",
    "# variance score: 1 means perfect prediction \n",
    "print('Variance score: {}'.format(reg.score(X_test, y_test))) \n",
    "\n",
    "# The mean squared error\n",
    "print(\"Mean squared error: %.2f\" % np.mean((reg.predict(X_test) - y_test) ** 2))\n",
    "\n",
    "  "
   ]
  }
 ],
 "metadata": {
  "kernelspec": {
   "display_name": "Python 3",
   "language": "python",
   "name": "python3"
  },
  "language_info": {
   "codemirror_mode": {
    "name": "ipython",
    "version": 3
   },
   "file_extension": ".py",
   "mimetype": "text/x-python",
   "name": "python",
   "nbconvert_exporter": "python",
   "pygments_lexer": "ipython3",
   "version": "3.7.4"
  }
 },
 "nbformat": 4,
 "nbformat_minor": 2
}

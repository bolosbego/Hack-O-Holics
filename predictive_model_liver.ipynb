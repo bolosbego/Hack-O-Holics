{
 "cells": [
  {
   "cell_type": "code",
   "execution_count": 45,
   "metadata": {},
   "outputs": [],
   "source": [
    "import matplotlib.pyplot as plt\n",
    "import pandas as pd\n",
    "from pandas import ExcelWriter\n",
    "from pandas import ExcelFile\n",
    "\n",
    "df = pd.read_excel('/home/avi/Desktop/Metabolic_Prediction/GTEx_pancreas_liver_images_liverfat_pancreasfat.xlsx')"
   ]
  },
  {
   "cell_type": "code",
   "execution_count": 79,
   "metadata": {},
   "outputs": [],
   "source": [
    "s = df[\"Pathology.Categories_liver\"] \n",
    "l = s.to_list()\n",
    "my_dict = {\".\": 0, \"nan\": 0, \"no_abnormalities\": 0, \"necrosis\": 1, \"congestion\": 2, \"fibrosis\": 3, \"inflammation\": 4, \"steatosis\": 5, \"cirrhosis\": 6,\n",
    "           \"hyperplasia\": 7, \"nodularity\": 8, \"hemorrhage\": 10, \"atrophy\": 11, \"infarction\": 12, \"hepatitis\": 13,\n",
    "          \"sclerotic\": 14, \"scarring\": 15, \"hyalinization\": 16, \"pigment\": 17, \"ischemic_changes\": 18, \"clean_specimens\": 0}\n",
    "\n",
    "score_list=[]\n",
    "for i in l: \n",
    "    score=0\n",
    "    i = str(i)\n",
    "    my_list = i.split(\",\") \n",
    "    for i in my_list:\n",
    "        score = score + my_dict[i.strip()]\n",
    "    score_list.append(score)\n",
    "    \n",
    "df.loc[:,'Score-List'] = score_list\n",
    "\n",
    "\n",
    "        \n",
    "\n"
   ]
  },
  {
   "cell_type": "code",
   "execution_count": 80,
   "metadata": {},
   "outputs": [
    {
     "name": "stdout",
     "output_type": "stream",
     "text": [
      "                      Fat.Percentage_liver\n",
      "Fat.Percentage_liver                   1.0\n"
     ]
    }
   ],
   "source": [
    "data = df[['Pathology.Categories_liver','Fat.Percentage_liver']]\n",
    "correlation = data.corr(method='pearson')\n",
    "print(correlation)"
   ]
  },
  {
   "cell_type": "code",
   "execution_count": null,
   "metadata": {},
   "outputs": [],
   "source": []
  }
 ],
 "metadata": {
  "kernelspec": {
   "display_name": "Python 3",
   "language": "python",
   "name": "python3"
  },
  "language_info": {
   "codemirror_mode": {
    "name": "ipython",
    "version": 3
   },
   "file_extension": ".py",
   "mimetype": "text/x-python",
   "name": "python",
   "nbconvert_exporter": "python",
   "pygments_lexer": "ipython3",
   "version": "3.7.4"
  }
 },
 "nbformat": 4,
 "nbformat_minor": 2
}
